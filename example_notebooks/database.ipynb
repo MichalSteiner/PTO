{
 "cells": [
  {
   "cell_type": "markdown",
   "metadata": {},
   "source": [
    "## Databases of planets\n",
    "### Catalog class\n",
    "`PTO` has a database system available to the user. The main implementation currently is of the NASA exoplanet archive. \n",
    "\n",
    "PTO has a implemented class `CatalogComposite` and `CatalogFull` in the `PTO.database.catalog` module that provides the general framework for all the databases. Furthermore, NASA exoplanet archive is implemented as the default database to filter through. More databases will come with time.\n",
    "\n",
    "`CatalogComposite` is a class where each planet has only a single entry. This corresponds to the PS Composite table from NASA Exoplanet archive. `CatalogFull` is a class where each single reference has different entry. This corresponds to the full PS table from NASA Exoplanet archive. \n"
   ]
  },
  {
   "cell_type": "markdown",
   "metadata": {},
   "source": [
    "## NASA exoplanet archive:\n",
    "Three different versions of NASA exoplanet archive Planetary System catalog are available.\n",
    "1. `NASA_Exoplanet_Archive_CompositeDefault`\n",
    "    - The default Composite table as extracted from NASA archive\n",
    "    - Values with no errorbars are either droped or replaced with 0, based on user input\n",
    "2. `NASA_Exoplanet_Archive_CompositeMostPrecise`\n",
    "    - Composite table with the most precise values to date\n",
    "    - Not Implemented Yet\n",
    "3. `NASA_Exoplanet_Archive_FullTable`\n",
    "    - Full table as loaded from the NASA archive\n",
    "    - Not Implemented Yet\n",
    "\n",
    "The difference between `NASA_Exoplanet_Archive_CompositeDefault` and `NASA_Exoplanet_Archive_CompositeMostPrecise` is that the former does not necessarily provide the most precise values. Using the latter is more preferable, as the values are selected based on the $1\\sigma$ errorbars on the values. Furthermore, the former also occassionally puts values without errorbars, even if values with errorbar are available."
   ]
  },
  {
   "cell_type": "markdown",
   "metadata": {},
   "source": []
  }
 ],
 "metadata": {
  "language_info": {
   "name": "python"
  }
 },
 "nbformat": 4,
 "nbformat_minor": 2
}
